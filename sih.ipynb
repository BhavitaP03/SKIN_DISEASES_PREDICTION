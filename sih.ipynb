{
  "nbformat": 4,
  "nbformat_minor": 0,
  "metadata": {
    "colab": {
      "provenance": [],
      "authorship_tag": "ABX9TyNA/Za5ju0yVm4x65M1T4tH",
      "include_colab_link": true
    },
    "kernelspec": {
      "name": "python3",
      "display_name": "Python 3"
    },
    "language_info": {
      "name": "python"
    }
  },
  "cells": [
    {
      "cell_type": "markdown",
      "metadata": {
        "id": "view-in-github",
        "colab_type": "text"
      },
      "source": [
        "<a href=\"https://colab.research.google.com/gist/BhavitaP03/341acbe8cbd624e801fe37432149da08/sih.ipynb\" target=\"_parent\"><img src=\"https://colab.research.google.com/assets/colab-badge.svg\" alt=\"Open In Colab\"/></a>"
      ]
    },
    {
      "cell_type": "markdown",
      "source": [],
      "metadata": {
        "id": "tuj76HoWqzbS"
      }
    },
    {
      "cell_type": "code",
      "source": [
        "from google.colab import drive\n"
      ],
      "metadata": {
        "id": "90xr4UZsM-TD"
      },
      "execution_count": null,
      "outputs": []
    },
    {
      "cell_type": "code",
      "source": [
        "drive.mount('/content/drive')"
      ],
      "metadata": {
        "colab": {
          "base_uri": "https://localhost:8080/"
        },
        "id": "SLDBthUaNMRl",
        "outputId": "6799d235-7ea1-4851-dc71-c43d3d167bc6"
      },
      "execution_count": null,
      "outputs": [
        {
          "output_type": "stream",
          "name": "stdout",
          "text": [
            "Mounted at /content/drive\n"
          ]
        }
      ]
    },
    {
      "cell_type": "code",
      "source": [
        "import tensorflow as tf\n",
        "from tensorflow.keras.preprocessing.image import ImageDataGenerator\n",
        "from tensorflow.keras.models import Sequential\n",
        "from tensorflow.keras.layers import Conv2D, MaxPooling2D, Flatten, Dense\n",
        "from tensorflow.keras.optimizers import Adam\n",
        "import numpy as np"
      ],
      "metadata": {
        "id": "PUo0lHVqLUe7"
      },
      "execution_count": null,
      "outputs": []
    },
    {
      "cell_type": "code",
      "source": [
        "train_data_dir = '/content/drive/MyDrive/practice/train'\n",
        "validation_data_dir = '/content/drive/MyDrive/practice/validate'\n",
        "test_data_dir = '/content/drive/MyDrive/practice/test'\n",
        "\n"
      ],
      "metadata": {
        "id": "fsZctByOLckX"
      },
      "execution_count": 31,
      "outputs": []
    },
    {
      "cell_type": "code",
      "source": [
        "img_width, img_height = 150, 150\n",
        "batch_size = 32\n"
      ],
      "metadata": {
        "id": "jqYeqrZucUGr"
      },
      "execution_count": 32,
      "outputs": []
    },
    {
      "cell_type": "code",
      "source": [
        "train_datagen = ImageDataGenerator(\n",
        "    rescale=1.0/255.0,\n",
        "    rotation_range=20,\n",
        "    width_shift_range=0.2,\n",
        "    height_shift_range=0.2,\n",
        "    shear_range=0.2,\n",
        "    zoom_range=0.2,\n",
        "    horizontal_flip=True,\n",
        "    fill_mode='nearest'\n",
        ")\n",
        "\n",
        "# Data generators for training and testing\n",
        "train_generator = train_datagen.flow_from_directory(\n",
        "    train_data_dir,\n",
        "    target_size=(img_width, img_height),\n",
        "    batch_size=batch_size,\n",
        "    class_mode='binary'  # Two classes: cats and dogs\n",
        ")\n"
      ],
      "metadata": {
        "colab": {
          "base_uri": "https://localhost:8080/"
        },
        "id": "rdJB1u55cXkq",
        "outputId": "a04334a0-ec71-4636-82a6-9467fdfb2f0a"
      },
      "execution_count": 33,
      "outputs": [
        {
          "output_type": "stream",
          "name": "stdout",
          "text": [
            "Found 658 images belonging to 2 classes.\n"
          ]
        }
      ]
    },
    {
      "cell_type": "code",
      "source": [
        "test_datagen = ImageDataGenerator(rescale=1.0/255.0)\n"
      ],
      "metadata": {
        "id": "KpRmTiLVcdH1"
      },
      "execution_count": 34,
      "outputs": []
    },
    {
      "cell_type": "code",
      "source": [
        "test_generator = test_datagen.flow_from_directory(\n",
        "    test_data_dir,\n",
        "    target_size=(img_width, img_height),\n",
        "    batch_size=batch_size,\n",
        "    class_mode='binary'  # Two classes: cats and dogs\n",
        ")\n"
      ],
      "metadata": {
        "colab": {
          "base_uri": "https://localhost:8080/"
        },
        "id": "hr91jSsqchdn",
        "outputId": "afe6da8f-7798-48e2-9ed7-fa081c710880"
      },
      "execution_count": 35,
      "outputs": [
        {
          "output_type": "stream",
          "name": "stdout",
          "text": [
            "Found 264 images belonging to 2 classes.\n"
          ]
        }
      ]
    },
    {
      "cell_type": "code",
      "source": [
        "model = Sequential([\n",
        "    Conv2D(32, (3, 3), activation='relu', input_shape=(img_width, img_height, 3)),\n",
        "    MaxPooling2D((2, 2)),\n",
        "    Conv2D(64, (3, 3), activation='relu'),\n",
        "    MaxPooling2D((2, 2)),\n",
        "    Conv2D(128, (3, 3), activation='relu'),\n",
        "    MaxPooling2D((2, 2)),\n",
        "    Flatten(),\n",
        "    Dense(128, activation='relu'),\n",
        "    Dense(1, activation='sigmoid')  # Binary classification (cats or dogs)\n",
        "])\n"
      ],
      "metadata": {
        "id": "RS0-PYVGcmDd"
      },
      "execution_count": 36,
      "outputs": []
    },
    {
      "cell_type": "code",
      "source": [
        "model.compile(optimizer='adam', loss='binary_crossentropy', metrics=['accuracy'])\n"
      ],
      "metadata": {
        "id": "-WT5KZgmcrQP"
      },
      "execution_count": 37,
      "outputs": []
    },
    {
      "cell_type": "code",
      "source": [
        "history = model.fit(\n",
        "    train_generator,\n",
        "    steps_per_epoch=train_generator.samples // batch_size,\n",
        "    epochs=10,\n",
        "    validation_data=test_generator,\n",
        "    validation_steps=test_generator.samples // batch_size\n",
        ")"
      ],
      "metadata": {
        "colab": {
          "base_uri": "https://localhost:8080/"
        },
        "id": "z5qjWjS4cwug",
        "outputId": "38de57da-b6a0-40cd-ef17-75c665f9d26e"
      },
      "execution_count": 38,
      "outputs": [
        {
          "output_type": "stream",
          "name": "stdout",
          "text": [
            "Epoch 1/10\n",
            "20/20 [==============================] - 237s 12s/step - loss: 0.7858 - accuracy: 0.5990 - val_loss: 0.5216 - val_accuracy: 0.7383\n",
            "Epoch 2/10\n",
            "20/20 [==============================] - 36s 2s/step - loss: 0.5192 - accuracy: 0.7476 - val_loss: 0.5041 - val_accuracy: 0.7656\n",
            "Epoch 3/10\n",
            "20/20 [==============================] - 38s 2s/step - loss: 0.4765 - accuracy: 0.7812 - val_loss: 0.5291 - val_accuracy: 0.7539\n",
            "Epoch 4/10\n",
            "20/20 [==============================] - 37s 2s/step - loss: 0.4643 - accuracy: 0.7796 - val_loss: 0.6167 - val_accuracy: 0.7070\n",
            "Epoch 5/10\n",
            "20/20 [==============================] - 39s 2s/step - loss: 0.4309 - accuracy: 0.7955 - val_loss: 0.4682 - val_accuracy: 0.7852\n",
            "Epoch 6/10\n",
            "20/20 [==============================] - 38s 2s/step - loss: 0.4272 - accuracy: 0.8031 - val_loss: 0.4745 - val_accuracy: 0.7695\n",
            "Epoch 7/10\n",
            "20/20 [==============================] - 36s 2s/step - loss: 0.4347 - accuracy: 0.7875 - val_loss: 0.4742 - val_accuracy: 0.7852\n",
            "Epoch 8/10\n",
            "20/20 [==============================] - 39s 2s/step - loss: 0.4105 - accuracy: 0.8179 - val_loss: 0.6182 - val_accuracy: 0.7422\n",
            "Epoch 9/10\n",
            "20/20 [==============================] - 37s 2s/step - loss: 0.4097 - accuracy: 0.8227 - val_loss: 0.4133 - val_accuracy: 0.8281\n",
            "Epoch 10/10\n",
            "20/20 [==============================] - 36s 2s/step - loss: 0.4213 - accuracy: 0.8035 - val_loss: 0.4569 - val_accuracy: 0.7578\n"
          ]
        }
      ]
    },
    {
      "cell_type": "code",
      "source": [
        "test_loss, test_accuracy = model.evaluate(test_generator, steps=test_generator.samples // batch_size)\n",
        "print(f'Test loss: {test_loss}, Test accuracy: {test_accuracy}')"
      ],
      "metadata": {
        "colab": {
          "base_uri": "https://localhost:8080/"
        },
        "id": "efMcVsI1c5sc",
        "outputId": "3e67246f-b0c5-4a14-fa74-bdf2d6490622"
      },
      "execution_count": 39,
      "outputs": [
        {
          "output_type": "stream",
          "name": "stdout",
          "text": [
            "8/8 [==============================] - 3s 401ms/step - loss: 0.4545 - accuracy: 0.7617\n",
            "Test loss: 0.45450353622436523, Test accuracy: 0.76171875\n"
          ]
        }
      ]
    },
    {
      "cell_type": "code",
      "source": [
        "new_image_path = '/content/download.jpeg'"
      ],
      "metadata": {
        "id": "3AHZAMpbc98C"
      },
      "execution_count": 55,
      "outputs": []
    },
    {
      "cell_type": "code",
      "source": [
        "from IPython.display import Image, display\n",
        "\n",
        "image_path = '/content/download.jpeg'\n",
        "display(Image(filename=image_path))"
      ],
      "metadata": {
        "colab": {
          "base_uri": "https://localhost:8080/",
          "height": 185
        },
        "id": "gvK0wrCCidUy",
        "outputId": "faef1d9a-be92-4997-f70b-d29c79c06c33"
      },
      "execution_count": 68,
      "outputs": [
        {
          "output_type": "display_data",
          "data": {
            "image/jpeg": "[encoded data removed]",
            "text/plain": [
              "<IPython.core.display.Image object>"
            ]
          },
          "metadata": {}
        }
      ]
    },
    {
      "cell_type": "code",
      "source": [
        "input_size = (150, 150)  # Adjust this to match the input size of your model\n",
        "img = image.load_img(new_image_path, target_size=input_size)\n",
        "img = image.img_to_array(img)\n",
        "img = np.expand_dims(img, axis=0)\n",
        "img /= 255.0  # Normalize pixel values to the range [0, 1]\n"
      ],
      "metadata": {
        "id": "ula6AuDwdRBD"
      },
      "execution_count": 59,
      "outputs": []
    },
    {
      "cell_type": "code",
      "source": [
        "predictions = model.predict(img)"
      ],
      "metadata": {
        "colab": {
          "base_uri": "https://localhost:8080/"
        },
        "id": "uSpCvEHdgDIm",
        "outputId": "2543affc-0e8e-4080-c529-26b38abdff43"
      },
      "execution_count": 61,
      "outputs": [
        {
          "output_type": "stream",
          "name": "stdout",
          "text": [
            "1/1 [==============================] - 0s 42ms/step\n"
          ]
        }
      ]
    },
    {
      "cell_type": "code",
      "source": [
        "class_labels = ['melanoma', 'nevus']"
      ],
      "metadata": {
        "id": "I3O3mcESdRFd"
      },
      "execution_count": 62,
      "outputs": []
    },
    {
      "cell_type": "code",
      "source": [
        "predicted_class = class_labels[int(round(predictions[0][0]))]"
      ],
      "metadata": {
        "id": "vhIjgActdNG5"
      },
      "execution_count": 63,
      "outputs": []
    },
    {
      "cell_type": "code",
      "source": [
        "print(f'Predicted class: {predicted_class}')\n",
        "print(f'Class probabilities: {predictions}')"
      ],
      "metadata": {
        "colab": {
          "base_uri": "https://localhost:8080/"
        },
        "id": "6RSAHRTRdNKT",
        "outputId": "554537ab-7d33-4ba9-ffb5-a79afac4d80d"
      },
      "execution_count": 64,
      "outputs": [
        {
          "output_type": "stream",
          "name": "stdout",
          "text": [
            "Predicted class: nevus\n",
            "Class probabilities: [[0.9526182]]\n"
          ]
        }
      ]
    },
    {
      "cell_type": "code",
      "source": [],
      "metadata": {
        "id": "B0cQz3-1chgH"
      },
      "execution_count": null,
      "outputs": []
    },
    {
      "cell_type": "code",
      "source": [],
      "metadata": {
        "id": "vYmGDdxOchiu"
      },
      "execution_count": null,
      "outputs": []
    },
    {
      "cell_type": "code",
      "source": [],
      "metadata": {
        "id": "JjNBXsEschk_"
      },
      "execution_count": null,
      "outputs": []
    },
    {
      "cell_type": "code",
      "source": [],
      "metadata": {
        "id": "Cr_gcT2ochoK"
      },
      "execution_count": null,
      "outputs": []
    }
  ]
}